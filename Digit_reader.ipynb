{
  "nbformat": 4,
  "nbformat_minor": 0,
  "metadata": {
    "colab": {
      "name": "Digit_reader.ipynb",
      "provenance": [],
      "authorship_tag": "ABX9TyOPiRZHvAa50mYQPzGeAK3a",
      "include_colab_link": true
    },
    "kernelspec": {
      "name": "python3",
      "display_name": "Python 3"
    }
  },
  "cells": [
    {
      "cell_type": "markdown",
      "metadata": {
        "id": "view-in-github",
        "colab_type": "text"
      },
      "source": [
        "<a href=\"https://colab.research.google.com/github/srini1999/Digit_Recognition/blob/master/Digit_reader.ipynb\" target=\"_parent\"><img src=\"https://colab.research.google.com/assets/colab-badge.svg\" alt=\"Open In Colab\"/></a>"
      ]
    },
    {
      "cell_type": "code",
      "metadata": {
        "id": "zIkWdIMoB-OF",
        "colab_type": "code",
        "colab": {}
      },
      "source": [
        "import keras\n",
        "import PIL\n",
        "import numpy as np\n",
        "import cv2\n",
        "from matplotlib import pyplot"
      ],
      "execution_count": 102,
      "outputs": []
    },
    {
      "cell_type": "code",
      "metadata": {
        "id": "DjYW4OEMMyAg",
        "colab_type": "code",
        "colab": {
          "base_uri": "https://localhost:8080/",
          "height": 265
        },
        "outputId": "ee57f945-b5b3-4eb0-9ce6-27972918e7a5"
      },
      "source": [
        "data = Image.open('Sample.jpg').convert('LA')\n",
        "data=data.resize((28,28))\n",
        "data.save(\"processed.png\")\n",
        "pix=cv2.imread('processed.png',cv2.IMREAD_GRAYSCALE)\n",
        "pyplot.imshow(pix)\n",
        "pix=pix.reshape(1,28,28,1)\n"
      ],
      "execution_count": 111,
      "outputs": [
        {
          "output_type": "display_data",
          "data": {
            "image/png": "[encoded data removed]",
            "text/plain": [
              "<Figure size 432x288 with 1 Axes>"
            ]
          },
          "metadata": {
            "tags": [],
            "needs_background": "light"
          }
        }
      ]
    },
    {
      "cell_type": "code",
      "metadata": {
        "id": "r7Nz4G5NBoxr",
        "colab_type": "code",
        "colab": {
          "base_uri": "https://localhost:8080/",
          "height": 35
        },
        "outputId": "9d3b1b6f-bee7-4dde-f124-46ef041b9790"
      },
      "source": [
        "model=keras.models.load_model('LeNetSmodel.h5')\n",
        "model.predict_classes(pix)"
      ],
      "execution_count": 112,
      "outputs": [
        {
          "output_type": "execute_result",
          "data": {
            "text/plain": [
              "array([7])"
            ]
          },
          "metadata": {
            "tags": []
          },
          "execution_count": 112
        }
      ]
    }
  ]
}