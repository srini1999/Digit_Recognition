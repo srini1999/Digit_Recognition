{
  "nbformat": 4,
  "nbformat_minor": 0,
  "metadata": {
    "colab": {
      "name": "Digit_reader.ipynb",
      "provenance": [],
      "authorship_tag": "ABX9TyOPiRZHvAa50mYQPzGeAK3a",
      "include_colab_link": true
    },
    "kernelspec": {
      "name": "python3",
      "display_name": "Python 3"
    }
  },
  "cells": [
    {
      "cell_type": "markdown",
      "metadata": {
        "id": "view-in-github",
        "colab_type": "text"
      },
      "source": [
        "<a href=\"https://colab.research.google.com/github/srini1999/Digit_Recognition/blob/master/Digit_reader.ipynb\" target=\"_parent\"><img src=\"https://colab.research.google.com/assets/colab-badge.svg\" alt=\"Open In Colab\"/></a>"
      ]
    },
    {
      "cell_type": "code",
      "metadata": {
        "id": "zIkWdIMoB-OF",
        "colab_type": "code",
        "colab": {}
      },
      "source": [
        "import keras\n",
        "import PIL\n",
        "import numpy as np\n",
        "import cv2\n",
        "from matplotlib import pyplot"
      ],
      "execution_count": null,
      "outputs": []
    },
    {
      "cell_type": "code",
      "metadata": {
        "id": "DjYW4OEMMyAg",
        "colab_type": "code",
        "colab": {
          "base_uri": "https://localhost:8080/",
          "height": 265
        },
        "outputId": "ad7b1e58-0738-4e55-f3b8-d24b96683fff"
      },
      "source": [
        "data = Image.open('Sample.jpg').convert('LA')\n",
        "data=data.resize((28,28))\n",
        "data.save(\"processed.png\")\n",
        "pix=cv2.imread('processed.png',cv2.IMREAD_GRAYSCALE)\n",
        "pyplot.imshow(pix)\n",
        "pix=pix.reshape(1,28,28,1)\n"
      ],
      "execution_count": 136,
      "outputs": [
        {
          "output_type": "display_data",
          "data": {
            "image/png": "[encoded data removed]",
            "text/plain": [
              "<Figure size 432x288 with 1 Axes>"
            ]
          },
          "metadata": {
            "tags": [],
            "needs_background": "light"
          }
        }
      ]
    },
    {
      "cell_type": "code",
      "metadata": {
        "id": "r7Nz4G5NBoxr",
        "colab_type": "code",
        "colab": {
          "base_uri": "https://localhost:8080/",
          "height": 35
        },
        "outputId": "c0d8a96b-3737-453a-a87b-6f808eeb9955"
      },
      "source": [
        "model=keras.models.load_model('LeNetSmodel.h5')\n",
        "model.predict_classes(pix)"
      ],
      "execution_count": 137,
      "outputs": [
        {
          "output_type": "execute_result",
          "data": {
            "text/plain": [
              "array([4])"
            ]
          },
          "metadata": {
            "tags": []
          },
          "execution_count": 137
        }
      ]
    }
  ]
}