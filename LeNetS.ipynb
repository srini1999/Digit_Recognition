{
  "nbformat": 4,
  "nbformat_minor": 0,
  "metadata": {
    "colab": {
      "name": "LeNetS.ipynb",
      "provenance": [],
      "collapsed_sections": [],
      "authorship_tag": "ABX9TyNVadF1E5avQvT9B2Ezygnf",
      "include_colab_link": true
    },
    "kernelspec": {
      "name": "python3",
      "display_name": "Python 3"
    }
  },
  "cells": [
    {
      "cell_type": "markdown",
      "metadata": {
        "id": "view-in-github",
        "colab_type": "text"
      },
      "source": [
        "<a href=\"https://colab.research.google.com/github/srini1999/Digit_Recognition/blob/master/LeNetS.ipynb\" target=\"_parent\"><img src=\"https://colab.research.google.com/assets/colab-badge.svg\" alt=\"Open In Colab\"/></a>"
      ]
    },
    {
      "cell_type": "markdown",
      "metadata": {
        "id": "YxUebLeSBRMk",
        "colab_type": "text"
      },
      "source": [
        "Importing libraries"
      ]
    },
    {
      "cell_type": "code",
      "metadata": {
        "id": "6JiqBibse0zV",
        "colab_type": "code",
        "colab": {}
      },
      "source": [
        "import numpy as np\n",
        "import matplotlib.pyplot as plt\n",
        "import keras\n",
        "from keras.datasets import mnist\n",
        "from keras.models import Sequential\n",
        "from keras.layers import Dense, Flatten, Conv2D, AveragePooling2D"
      ],
      "execution_count": null,
      "outputs": []
    },
    {
      "cell_type": "markdown",
      "metadata": {
        "id": "mJeHTp5Xo2Mc",
        "colab_type": "text"
      },
      "source": [
        "Pre-processing data"
      ]
    },
    {
      "cell_type": "code",
      "metadata": {
        "id": "azA59LQDhbH7",
        "colab_type": "code",
        "colab": {}
      },
      "source": [
        "(x_train, y_train), (x_test, y_test) = mnist.load_data()\n",
        "classes=10\n",
        "no,row,col=x_train.shape\n",
        "no_test=10000\n",
        "x_train = x_train.reshape(no, row, col, 1)\n",
        "x_test = x_test.reshape(no_test, row, col, 1)\n",
        "x_train = x_train.astype('float32')\n",
        "x_test = x_test.astype('float32')\n",
        "x_train = x_train/255\n",
        "x_test = x_test/255\n",
        "y_train = keras.utils.to_categorical(y_train, classes)\n",
        "y_test = keras.utils.to_categorical(y_test, classes)"
      ],
      "execution_count": null,
      "outputs": []
    },
    {
      "cell_type": "markdown",
      "metadata": {
        "id": "ORGNFQdYAoYW",
        "colab_type": "text"
      },
      "source": [
        "Building Model"
      ]
    },
    {
      "cell_type": "code",
      "metadata": {
        "id": "KKMjG35ahwAY",
        "colab_type": "code",
        "colab": {
          "base_uri": "https://localhost:8080/",
          "height": 453
        },
        "outputId": "78199b97-4d62-4869-e5aa-f23b195951e6"
      },
      "source": [
        "model=Sequential()\n",
        "model.add(Conv2D(6,(5,5),activation='relu',input_shape=(row,col,1)))\n",
        "model.add(AveragePooling2D(pool_size=(2,2)))\n",
        "model.add(Conv2D(16,(5,5),activation='relu'))\n",
        "model.add(AveragePooling2D(pool_size=(2,2)))\n",
        "model.add(Flatten())\n",
        "model.add(Dense(120, activation='relu'))\n",
        "model.add(Dense(84, activation='relu'))\n",
        "model.add(Dense(10, activation='softmax'))\n",
        "model.summary()"
      ],
      "execution_count": null,
      "outputs": [
        {
          "output_type": "stream",
          "text": [
            "Model: \"sequential_2\"\n",
            "_________________________________________________________________\n",
            "Layer (type)                 Output Shape              Param #   \n",
            "=================================================================\n",
            "conv2d_3 (Conv2D)            (None, 24, 24, 6)         156       \n",
            "_________________________________________________________________\n",
            "average_pooling2d_3 (Average (None, 12, 12, 6)         0         \n",
            "_________________________________________________________________\n",
            "conv2d_4 (Conv2D)            (None, 8, 8, 16)          2416      \n",
            "_________________________________________________________________\n",
            "average_pooling2d_4 (Average (None, 4, 4, 16)          0         \n",
            "_________________________________________________________________\n",
            "flatten_2 (Flatten)          (None, 256)               0         \n",
            "_________________________________________________________________\n",
            "dense_4 (Dense)              (None, 120)               30840     \n",
            "_________________________________________________________________\n",
            "dense_5 (Dense)              (None, 84)                10164     \n",
            "_________________________________________________________________\n",
            "dense_6 (Dense)              (None, 10)                850       \n",
            "=================================================================\n",
            "Total params: 44,426\n",
            "Trainable params: 44,426\n",
            "Non-trainable params: 0\n",
            "_________________________________________________________________\n"
          ],
          "name": "stdout"
        }
      ]
    },
    {
      "cell_type": "markdown",
      "metadata": {
        "id": "p2DlsQCEAuji",
        "colab_type": "text"
      },
      "source": [
        "Learning the model"
      ]
    },
    {
      "cell_type": "code",
      "metadata": {
        "id": "O8-rMu8kwJHm",
        "colab_type": "code",
        "colab": {
          "base_uri": "https://localhost:8080/",
          "height": 417
        },
        "outputId": "6163d767-4c33-408e-c577-f6d84627c5a3"
      },
      "source": [
        "model.compile(optimizer = 'adam', loss = 'categorical_crossentropy', metrics=['accuracy'])\n",
        "model.fit(x=x_train,y=y_train,batch_size=128,epochs=10, validation_data=(x_test,y_test))"
      ],
      "execution_count": null,
      "outputs": [
        {
          "output_type": "stream",
          "text": [
            "Train on 60000 samples, validate on 10000 samples\n",
            "Epoch 1/10\n",
            "60000/60000 [==============================] - 23s 377us/step - loss: 0.0194 - accuracy: 0.9937 - val_loss: 0.0391 - val_accuracy: 0.9874\n",
            "Epoch 2/10\n",
            "60000/60000 [==============================] - 22s 374us/step - loss: 0.0164 - accuracy: 0.9947 - val_loss: 0.0321 - val_accuracy: 0.9904\n",
            "Epoch 3/10\n",
            "60000/60000 [==============================] - 22s 373us/step - loss: 0.0143 - accuracy: 0.9954 - val_loss: 0.0333 - val_accuracy: 0.9904\n",
            "Epoch 4/10\n",
            "60000/60000 [==============================] - 23s 377us/step - loss: 0.0138 - accuracy: 0.9954 - val_loss: 0.0388 - val_accuracy: 0.9898\n",
            "Epoch 5/10\n",
            "60000/60000 [==============================] - 22s 373us/step - loss: 0.0117 - accuracy: 0.9963 - val_loss: 0.0439 - val_accuracy: 0.9882\n",
            "Epoch 6/10\n",
            "60000/60000 [==============================] - 22s 374us/step - loss: 0.0128 - accuracy: 0.9957 - val_loss: 0.0320 - val_accuracy: 0.9905\n",
            "Epoch 7/10\n",
            "60000/60000 [==============================] - 22s 372us/step - loss: 0.0115 - accuracy: 0.9960 - val_loss: 0.0394 - val_accuracy: 0.9875\n",
            "Epoch 8/10\n",
            "60000/60000 [==============================] - 22s 372us/step - loss: 0.0081 - accuracy: 0.9973 - val_loss: 0.0416 - val_accuracy: 0.9907\n",
            "Epoch 9/10\n",
            "60000/60000 [==============================] - 22s 373us/step - loss: 0.0109 - accuracy: 0.9963 - val_loss: 0.0328 - val_accuracy: 0.9912\n",
            "Epoch 10/10\n",
            "60000/60000 [==============================] - 22s 375us/step - loss: 0.0090 - accuracy: 0.9969 - val_loss: 0.0339 - val_accuracy: 0.9903\n"
          ],
          "name": "stdout"
        },
        {
          "output_type": "execute_result",
          "data": {
            "text/plain": [
              "<keras.callbacks.callbacks.History at 0x7f28ec9cd4a8>"
            ]
          },
          "metadata": {
            "tags": []
          },
          "execution_count": 11
        }
      ]
    },
    {
      "cell_type": "markdown",
      "metadata": {
        "id": "9rCFExYrBCil",
        "colab_type": "text"
      },
      "source": [
        "Evaluating the Model"
      ]
    },
    {
      "cell_type": "code",
      "metadata": {
        "id": "qgzubhBg7y-j",
        "colab_type": "code",
        "colab": {
          "base_uri": "https://localhost:8080/",
          "height": 53
        },
        "outputId": "e349111c-732d-482b-c870-8e810cf4732f"
      },
      "source": [
        "score = model.evaluate(x_test, y_test, verbose=0)\n",
        "print('Test loss:', score[0])\n",
        "print('Test accuracy:', score[1])"
      ],
      "execution_count": null,
      "outputs": [
        {
          "output_type": "stream",
          "text": [
            "Test loss: 0.03389355814764622\n",
            "Test accuracy: 0.9902999997138977\n"
          ],
          "name": "stdout"
        }
      ]
    },
    {
      "cell_type": "markdown",
      "metadata": {
        "id": "yXEBsnueBIVE",
        "colab_type": "text"
      },
      "source": [
        "Saving weights"
      ]
    },
    {
      "cell_type": "code",
      "metadata": {
        "id": "AcgT3Hfh8zMW",
        "colab_type": "code",
        "colab": {}
      },
      "source": [
        "model.save('LeNetSmodel.h5')"
      ],
      "execution_count": null,
      "outputs": []
    }
  ]
}