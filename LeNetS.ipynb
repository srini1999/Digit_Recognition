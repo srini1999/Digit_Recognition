{
  "nbformat": 4,
  "nbformat_minor": 0,
  "metadata": {
    "colab": {
      "name": "LeNetS.ipynb",
      "provenance": [],
      "collapsed_sections": [],
      "authorship_tag": "ABX9TyMMxO0ThOzmjik/CWGl9Yfb",
      "include_colab_link": true
    },
    "kernelspec": {
      "name": "python3",
      "display_name": "Python 3"
    }
  },
  "cells": [
    {
      "cell_type": "markdown",
      "metadata": {
        "id": "view-in-github",
        "colab_type": "text"
      },
      "source": [
        "<a href=\"https://colab.research.google.com/github/srini1999/Digit_Recognition/blob/master/LeNetS.ipynb\" target=\"_parent\"><img src=\"https://colab.research.google.com/assets/colab-badge.svg\" alt=\"Open In Colab\"/></a>"
      ]
    },
    {
      "cell_type": "markdown",
      "metadata": {
        "id": "YxUebLeSBRMk",
        "colab_type": "text"
      },
      "source": [
        "Importing libraries"
      ]
    },
    {
      "cell_type": "code",
      "metadata": {
        "id": "6JiqBibse0zV",
        "colab_type": "code",
        "colab": {}
      },
      "source": [
        "import numpy as np\n",
        "import matplotlib.pyplot as plt\n",
        "import keras\n",
        "from keras.datasets import mnist\n",
        "from keras.models import Sequential\n",
        "from keras.layers import Dense, Flatten, Conv2D, AveragePooling2D, Dropout"
      ],
      "execution_count": null,
      "outputs": []
    },
    {
      "cell_type": "markdown",
      "metadata": {
        "id": "mJeHTp5Xo2Mc",
        "colab_type": "text"
      },
      "source": [
        "Pre-processing data"
      ]
    },
    {
      "cell_type": "code",
      "metadata": {
        "id": "azA59LQDhbH7",
        "colab_type": "code",
        "colab": {}
      },
      "source": [
        "(x_train, y_train), (x_test, y_test) = mnist.load_data()\n",
        "classes=10\n",
        "no,row,col=x_train.shape\n",
        "no_test=10000\n",
        "x_train = x_train.reshape(no, row, col, 1)\n",
        "x_test = x_test.reshape(no_test, row, col, 1)\n",
        "x_train = x_train.astype('float32')\n",
        "x_test = x_test.astype('float32')\n",
        "x_train = x_train/255\n",
        "x_test = x_test/255\n",
        "y_train = keras.utils.to_categorical(y_train, classes)\n",
        "y_test = keras.utils.to_categorical(y_test, classes)"
      ],
      "execution_count": null,
      "outputs": []
    },
    {
      "cell_type": "markdown",
      "metadata": {
        "id": "ORGNFQdYAoYW",
        "colab_type": "text"
      },
      "source": [
        "Building Model"
      ]
    },
    {
      "cell_type": "code",
      "metadata": {
        "id": "KKMjG35ahwAY",
        "colab_type": "code",
        "colab": {
          "base_uri": "https://localhost:8080/",
          "height": 526
        },
        "outputId": "36c9ae53-8dad-43c1-b236-8b84e7a332cd"
      },
      "source": [
        "model=Sequential()\n",
        "model.add(Conv2D(6,(5,5),activation='relu',input_shape=(row,col,1)))\n",
        "model.add(AveragePooling2D(pool_size=(2,2)))\n",
        "model.add(Conv2D(16,(5,5),activation='relu'))\n",
        "model.add(AveragePooling2D(pool_size=(2,2)))\n",
        "model.add(Flatten())\n",
        "model.add(Dense(120, activation='relu'))\n",
        "model.add(Dropout(0.2))\n",
        "model.add(Dense(84, activation='relu'))\n",
        "model.add(Dropout(0.2))\n",
        "model.add(Dense(10, activation='softmax'))\n",
        "model.summary()"
      ],
      "execution_count": null,
      "outputs": [
        {
          "output_type": "stream",
          "text": [
            "Model: \"sequential_3\"\n",
            "_________________________________________________________________\n",
            "Layer (type)                 Output Shape              Param #   \n",
            "=================================================================\n",
            "conv2d_5 (Conv2D)            (None, 24, 24, 6)         156       \n",
            "_________________________________________________________________\n",
            "average_pooling2d_5 (Average (None, 12, 12, 6)         0         \n",
            "_________________________________________________________________\n",
            "conv2d_6 (Conv2D)            (None, 8, 8, 16)          2416      \n",
            "_________________________________________________________________\n",
            "average_pooling2d_6 (Average (None, 4, 4, 16)          0         \n",
            "_________________________________________________________________\n",
            "flatten_3 (Flatten)          (None, 256)               0         \n",
            "_________________________________________________________________\n",
            "dense_7 (Dense)              (None, 120)               30840     \n",
            "_________________________________________________________________\n",
            "dropout_2 (Dropout)          (None, 120)               0         \n",
            "_________________________________________________________________\n",
            "dense_8 (Dense)              (None, 84)                10164     \n",
            "_________________________________________________________________\n",
            "dropout_3 (Dropout)          (None, 84)                0         \n",
            "_________________________________________________________________\n",
            "dense_9 (Dense)              (None, 10)                850       \n",
            "=================================================================\n",
            "Total params: 44,426\n",
            "Trainable params: 44,426\n",
            "Non-trainable params: 0\n",
            "_________________________________________________________________\n"
          ],
          "name": "stdout"
        }
      ]
    },
    {
      "cell_type": "markdown",
      "metadata": {
        "id": "p2DlsQCEAuji",
        "colab_type": "text"
      },
      "source": [
        "Learning the model"
      ]
    },
    {
      "cell_type": "code",
      "metadata": {
        "id": "O8-rMu8kwJHm",
        "colab_type": "code",
        "colab": {
          "base_uri": "https://localhost:8080/",
          "height": 417
        },
        "outputId": "bd144964-8352-460a-d12b-3ae6b94cde71"
      },
      "source": [
        "model.compile(optimizer = 'adam', loss = 'categorical_crossentropy', metrics=['accuracy'])\n",
        "model.fit(x=x_train,y=y_train,batch_size=128,epochs=10, validation_data=(x_test,y_test))"
      ],
      "execution_count": null,
      "outputs": [
        {
          "output_type": "stream",
          "text": [
            "Train on 60000 samples, validate on 10000 samples\n",
            "Epoch 1/10\n",
            "60000/60000 [==============================] - 25s 415us/step - loss: 0.4870 - accuracy: 0.8449 - val_loss: 0.1165 - val_accuracy: 0.9637\n",
            "Epoch 2/10\n",
            "60000/60000 [==============================] - 25s 411us/step - loss: 0.1450 - accuracy: 0.9568 - val_loss: 0.0742 - val_accuracy: 0.9744\n",
            "Epoch 3/10\n",
            "60000/60000 [==============================] - 25s 409us/step - loss: 0.1042 - accuracy: 0.9687 - val_loss: 0.0571 - val_accuracy: 0.9815\n",
            "Epoch 4/10\n",
            "60000/60000 [==============================] - 24s 408us/step - loss: 0.0822 - accuracy: 0.9754 - val_loss: 0.0474 - val_accuracy: 0.9846\n",
            "Epoch 5/10\n",
            "60000/60000 [==============================] - 26s 437us/step - loss: 0.0697 - accuracy: 0.9789 - val_loss: 0.0484 - val_accuracy: 0.9838\n",
            "Epoch 6/10\n",
            "60000/60000 [==============================] - 25s 420us/step - loss: 0.0606 - accuracy: 0.9823 - val_loss: 0.0405 - val_accuracy: 0.9871\n",
            "Epoch 7/10\n",
            "60000/60000 [==============================] - 24s 407us/step - loss: 0.0529 - accuracy: 0.9838 - val_loss: 0.0355 - val_accuracy: 0.9894\n",
            "Epoch 8/10\n",
            "60000/60000 [==============================] - 24s 407us/step - loss: 0.0475 - accuracy: 0.9848 - val_loss: 0.0378 - val_accuracy: 0.9884\n",
            "Epoch 9/10\n",
            "60000/60000 [==============================] - 24s 405us/step - loss: 0.0438 - accuracy: 0.9864 - val_loss: 0.0355 - val_accuracy: 0.9894\n",
            "Epoch 10/10\n",
            "60000/60000 [==============================] - 24s 405us/step - loss: 0.0410 - accuracy: 0.9871 - val_loss: 0.0314 - val_accuracy: 0.9900\n"
          ],
          "name": "stdout"
        },
        {
          "output_type": "execute_result",
          "data": {
            "text/plain": [
              "<keras.callbacks.callbacks.History at 0x7f97d2c636a0>"
            ]
          },
          "metadata": {
            "tags": []
          },
          "execution_count": 11
        }
      ]
    },
    {
      "cell_type": "markdown",
      "metadata": {
        "id": "9rCFExYrBCil",
        "colab_type": "text"
      },
      "source": [
        "Evaluating the Model"
      ]
    },
    {
      "cell_type": "code",
      "metadata": {
        "id": "qgzubhBg7y-j",
        "colab_type": "code",
        "colab": {
          "base_uri": "https://localhost:8080/",
          "height": 53
        },
        "outputId": "f6e53490-fb68-4fb8-d3ee-56ade81f473f"
      },
      "source": [
        "score = model.evaluate(x_test, y_test, verbose=0)\n",
        "print('Test loss:', score[0])\n",
        "print('Test accuracy:', score[1])"
      ],
      "execution_count": 13,
      "outputs": [
        {
          "output_type": "stream",
          "text": [
            "Test loss: 0.03135536251805024\n",
            "Test accuracy: 0.9900000095367432\n"
          ],
          "name": "stdout"
        }
      ]
    },
    {
      "cell_type": "markdown",
      "metadata": {
        "id": "yXEBsnueBIVE",
        "colab_type": "text"
      },
      "source": [
        "Saving weights"
      ]
    },
    {
      "cell_type": "code",
      "metadata": {
        "id": "AcgT3Hfh8zMW",
        "colab_type": "code",
        "colab": {}
      },
      "source": [
        "model.save('LeNetSmodel.h5')"
      ],
      "execution_count": null,
      "outputs": []
    }
  ]
}